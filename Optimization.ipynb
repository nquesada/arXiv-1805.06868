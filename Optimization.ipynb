{
 "cells": [
  {
   "cell_type": "markdown",
   "metadata": {},
   "source": [
    "#  Minimizing the amount of correlations\n",
    "## Nicolas Quesada"
   ]
  },
  {
   "cell_type": "markdown",
   "metadata": {},
   "source": [
    "In a [paper](https://doi.org/10.1103/PhysRevA.88.044301) by Jiang, Lang, and Caves the authors show that if one has two qumodes states $|\\psi \\rangle$ and $|\\phi \\rangle$ and a beamsplitter $\\text{BS}(\\theta)$ then the only way no entanglement is generated when the beamsplitter acts on the product of the two states \n",
    "\n",
    "$|\\Psi \\rangle = \\text{BS}(\\theta) \\ |\\psi \\rangle \\otimes |\\phi \\rangle$\n",
    "\n",
    "is if the states $|\\psi \\rangle$ and $|\\phi \\rangle$ are squeezed states along the same quadrature and by the same amount.\n",
    "\n",
    "Now imagine the following task: Given an input state $|\\psi \\rangle$, which is not necessarily a squeezed state, what is the optimal state $|\\phi \\rangle$ that when sent into a given beamsplitter $\\text{BS}(\\theta)$ together with $|\\psi \\rangle$ will generate the least amount of entanglement.\n",
    "\n",
    "In our [paper](https://arxiv.org/abs/1805.06868) we showed that if $\\theta \\ll 1$ the optimal state $|\\phi \\rangle$, for any input state $|\\psi \\rangle$, is always a squeezed state.\n",
    "We furthermore conjectured that this holds for any value of $\\theta$.\n",
    "Here we numerically explore this question by performing numerical minimization over $|\\phi \\rangle$ to find the state that minimizes the entanglement between the two modes."
   ]
  },
  {
   "cell_type": "code",
   "execution_count": 1,
   "metadata": {},
   "outputs": [
    {
     "name": "stderr",
     "output_type": "stream",
     "text": [
      "/home/nicolas/anaconda2/envs/covarianceproject/lib/python3.5/site-packages/h5py/__init__.py:36: FutureWarning: Conversion of the second argument of issubdtype from `float` to `np.floating` is deprecated. In future, it will be treated as `np.float64 == np.dtype(float).type`.\n",
      "  from ._conv import register_converters as _register_converters\n"
     ]
    }
   ],
   "source": [
    "# Import basic utility functions\n",
    "import numpy as np\n",
    "from scipy.linalg import expm\n",
    "import tensorflow as tf"
   ]
  },
  {
   "cell_type": "code",
   "execution_count": 2,
   "metadata": {},
   "outputs": [],
   "source": [
    "# Import strawberryfields\n",
    "import strawberryfields as sf\n",
    "from strawberryfields.ops import *\n",
    "from strawberryfields.backends.tfbackend.ops import partial_trace"
   ]
  },
  {
   "cell_type": "code",
   "execution_count": 3,
   "metadata": {},
   "outputs": [],
   "source": [
    "# Set the cutoff dimension\n",
    "cutoff = 30"
   ]
  },
  {
   "cell_type": "code",
   "execution_count": 4,
   "metadata": {},
   "outputs": [],
   "source": [
    "# Given state |\\psi>, an equal superposition of |0> and |1>\n",
    "psi = np.zeros([cutoff],dtype=np.complex128)\n",
    "psi[0] = 1.0\n",
    "psi[1] = 1.0\n",
    "psi /= np.linalg.norm(psi)"
   ]
  },
  {
   "cell_type": "code",
   "execution_count": 5,
   "metadata": {},
   "outputs": [],
   "source": [
    "# Initial random guess for |\\phi>\n",
    "phi = np.random.random(size=[cutoff]) + 1j*np.random.random(size=[cutoff])\n",
    "phi[10:] = 0.\n",
    "phi /= np.linalg.norm(phi)"
   ]
  },
  {
   "cell_type": "code",
   "execution_count": 6,
   "metadata": {},
   "outputs": [],
   "source": [
    "# Define a creation operator\n",
    "a = np.diag(np.sqrt(np.arange(1,cutoff)), k=1)"
   ]
  },
  {
   "cell_type": "code",
   "execution_count": 7,
   "metadata": {},
   "outputs": [
    {
     "data": {
      "text/plain": [
       "array([ 0.,  1.,  2.,  3.,  4.,  5.,  6.,  7.,  8.,  9., 10., 11., 12.,\n",
       "       13., 14., 15., 16., 17., 18., 19., 20., 21., 22., 23., 24., 25.,\n",
       "       26., 27., 28., 29.])"
      ]
     },
     "execution_count": 7,
     "metadata": {},
     "output_type": "execute_result"
    }
   ],
   "source": [
    "# Check that it gives the number operator when one does a^\\dagger a\n",
    "np.diag(a.T @ a)"
   ]
  },
  {
   "cell_type": "code",
   "execution_count": 8,
   "metadata": {},
   "outputs": [],
   "source": [
    "# Define quadrature operators\n",
    "x = a + a.T\n",
    "p = -1j*(a-a.T)"
   ]
  },
  {
   "cell_type": "code",
   "execution_count": 9,
   "metadata": {},
   "outputs": [],
   "source": [
    "def recenter(initket):\n",
    "    \"\"\" Given a ket expressed as a numpy array it \n",
    "    calculates the displacement \\alpha = <initket|a|initket>\n",
    "    and the applies a displacement in phase space\n",
    "    so that the ket returned has zero displacement\n",
    "    \"\"\"\n",
    "    alpha = np.dot(np.conj(initket),np.dot(a,initket))\n",
    "    dalpha = expm(np.conj(alpha)*a-alpha*a.T)\n",
    "    initket1 = np.dot(dalpha,initket)\n",
    "    alpha1 = np.dot(np.conj(initket1),np.dot(a,initket1))\n",
    "    return initket1"
   ]
  },
  {
   "cell_type": "code",
   "execution_count": 10,
   "metadata": {},
   "outputs": [
    {
     "data": {
      "text/plain": [
       "(0.4999999999999999+0j)"
      ]
     },
     "execution_count": 10,
     "metadata": {},
     "output_type": "execute_result"
    }
   ],
   "source": [
    "# Check expectation value of creation operator on |\\psi>\n",
    "psi.conj().T @ a @ psi"
   ]
  },
  {
   "cell_type": "code",
   "execution_count": 11,
   "metadata": {},
   "outputs": [],
   "source": [
    "# Make sure the initial kets have zero displacement\n",
    "psi = recenter(psi)\n",
    "phi = recenter(phi)"
   ]
  },
  {
   "cell_type": "code",
   "execution_count": 12,
   "metadata": {
    "scrolled": true
   },
   "outputs": [
    {
     "data": {
      "text/plain": [
       "(1.8041124150158794e-16+0j)"
      ]
     },
     "execution_count": 12,
     "metadata": {},
     "output_type": "execute_result"
    }
   ],
   "source": [
    "# Check psi\n",
    "psi.conj().T @ a @ psi"
   ]
  },
  {
   "cell_type": "code",
   "execution_count": 13,
   "metadata": {},
   "outputs": [
    {
     "data": {
      "text/plain": [
       "(9.570298725794513e-06+4.136510139696181e-07j)"
      ]
     },
     "execution_count": 13,
     "metadata": {},
     "output_type": "execute_result"
    }
   ],
   "source": [
    "# Check phi\n",
    "phi.conj().T @ a @ phi"
   ]
  },
  {
   "cell_type": "code",
   "execution_count": 14,
   "metadata": {},
   "outputs": [],
   "source": [
    "# Setup strawberryfields\n",
    "eng, q = sf.Engine(2)\n",
    "\n",
    "psi = tf.cast(psi, tf.complex64)\n",
    "phi_var = tf.cast(tf.Variable(phi.real),tf.complex64) + 1j*tf.cast(tf.Variable(phi.imag), tf.complex64)\n",
    "\n",
    "ket = tf.tensordot(psi, phi_var, axes=0)\n",
    "\n",
    "with eng:\n",
    "    Ket(ket) | q\n",
    "    BSgate(np.pi/4, 0) | q\n",
    "    \n",
    "state = eng.run('tf',cutoff_dim=cutoff, eval=False, modes=[1])"
   ]
  },
  {
   "cell_type": "code",
   "execution_count": 15,
   "metadata": {},
   "outputs": [],
   "source": [
    "# We will only keep track of the state in register 1"
   ]
  },
  {
   "cell_type": "code",
   "execution_count": 16,
   "metadata": {},
   "outputs": [
    {
     "data": {
      "text/plain": [
       "False"
      ]
     },
     "execution_count": 16,
     "metadata": {},
     "output_type": "execute_result"
    }
   ],
   "source": [
    "state.is_pure"
   ]
  },
  {
   "cell_type": "code",
   "execution_count": 17,
   "metadata": {},
   "outputs": [],
   "source": [
    "# Define the density matrix of mode B (register 1)\n",
    "rhoB = state.dm()"
   ]
  },
  {
   "cell_type": "code",
   "execution_count": 18,
   "metadata": {},
   "outputs": [],
   "source": [
    "penalty_strength = 10"
   ]
  },
  {
   "cell_type": "code",
   "execution_count": 19,
   "metadata": {},
   "outputs": [],
   "source": [
    "# The cost function contains the purity of the reduced density matrix\n",
    "# and an extra penaly that forces the optimized state to have zero displacement\n",
    "# Finally, we divide by the tr(rhoB)**2 so that the state is always normalized\n",
    "\n",
    "cost = tf.cast(tf.real((tf.trace(rhoB @ rhoB)\n",
    "                        -penalty_strength*tf.trace(rhoB @ x)**2\n",
    "                        -penalty_strength*tf.trace(rhoB @ p)**2)/(tf.trace(rhoB))**2\n",
    "                      ), tf.float64)"
   ]
  },
  {
   "cell_type": "code",
   "execution_count": 20,
   "metadata": {},
   "outputs": [],
   "source": [
    "# Set up optimization\n",
    "optimizer = tf.train.AdamOptimizer()\n",
    "minimize_op = optimizer.minimize(-cost)"
   ]
  },
  {
   "cell_type": "code",
   "execution_count": 21,
   "metadata": {},
   "outputs": [],
   "source": [
    "sess = tf.Session()\n",
    "sess.run(tf.global_variables_initializer())"
   ]
  },
  {
   "cell_type": "code",
   "execution_count": 22,
   "metadata": {},
   "outputs": [],
   "source": [
    "# Import plotting\n",
    "from matplotlib import pyplot as plt\n",
    "%matplotlib inline"
   ]
  },
  {
   "cell_type": "code",
   "execution_count": null,
   "metadata": {},
   "outputs": [],
   "source": []
  },
  {
   "cell_type": "code",
   "execution_count": 23,
   "metadata": {},
   "outputs": [],
   "source": [
    "x = np.arange(-5, 5, 0.01)\n",
    "p = np.arange(-5, 5, 0.01)"
   ]
  },
  {
   "cell_type": "code",
   "execution_count": 24,
   "metadata": {},
   "outputs": [],
   "source": [
    "# Wigner function for plotting purposes\n",
    "# This code is part of qutip\n",
    "\n",
    "def wigner(rho, xvec, pvec):\n",
    "    # Modified from qutip.org\n",
    "    Q, P = np.meshgrid(xvec, pvec)\n",
    "    A = (Q + P * 1.0j) / (2 * np.sqrt(2 / 2))\n",
    "\n",
    "    Wlist = np.array([np.zeros(np.shape(A), dtype=complex) for k in range(cutoff)])\n",
    "\n",
    "    # Wigner function for |0><0|\n",
    "    Wlist[0] = np.exp(-2.0 * np.abs(A) ** 2) / np.pi\n",
    "\n",
    "    # W = rho(0,0)W(|0><0|)\n",
    "    W = np.real(rho[0, 0]) * np.real(Wlist[0])\n",
    "\n",
    "    for n in range(1, cutoff):\n",
    "        Wlist[n] = (2.0 * A * Wlist[n - 1]) / np.sqrt(n)\n",
    "        W += 2 * np.real(rho[0, n] * Wlist[n])\n",
    "\n",
    "    for m in range(1, cutoff):\n",
    "        temp = copy.copy(Wlist[m])\n",
    "        # Wlist[m] = Wigner function for |m><m|\n",
    "        Wlist[m] = (2 * np.conj(A) * temp - np.sqrt(m)\n",
    "                    * Wlist[m - 1]) / np.sqrt(m)\n",
    "\n",
    "        # W += rho(m,m)W(|m><m|)\n",
    "        W += np.real(rho[m, m] * Wlist[m])\n",
    "\n",
    "        for n in range(m + 1, cutoff):\n",
    "            temp2 = (2 * A * Wlist[n - 1] - np.sqrt(m) * temp) / np.sqrt(n)\n",
    "            temp = copy.copy(Wlist[n])\n",
    "            # Wlist[n] = Wigner function for |m><n|\n",
    "            Wlist[n] = temp2\n",
    "\n",
    "            # W += rho(m,n)W(|m><n|) + rho(n,m)W(|n><m|)\n",
    "            W += 2 * np.real(rho[m, n] * Wlist[n])\n",
    "\n",
    "    return Q, P, W / 2"
   ]
  },
  {
   "cell_type": "code",
   "execution_count": null,
   "metadata": {},
   "outputs": [
    {
     "name": "stdout",
     "output_type": "stream",
     "text": [
      "0 0.5216710567474365\n",
      "50 0.6235715746879578\n",
      "100 0.7080224752426147\n",
      "150 0.7566253542900085\n",
      "200 0.789597749710083\n",
      "250 0.8216609954833984\n",
      "300 0.8583993315696716\n",
      "350 0.896856963634491\n",
      "400 0.9107495546340942\n"
     ]
    }
   ],
   "source": [
    "# Now do the optimization and plot the wigner function of the optimal state\n",
    "# and print the values of the cost function\n",
    "# It also saves snapshots of the wigner function every 50 iterations\n",
    "reps = 1201\n",
    "\n",
    "cost_progress = []\n",
    "\n",
    "for i in range(reps):\n",
    "\n",
    "    [_, cost_val, ket_val] = sess.run([minimize_op, cost, phi_var])\n",
    "    # Stores fidelity at each step\n",
    "    cost_progress.append(cost_val)\n",
    "\n",
    "    # Prints progress\n",
    "    if i % 50 == 0:\n",
    "        print(i, cost_val)\n",
    "        rho = np.outer(ket_val, ket_val.conj().T)\n",
    "\n",
    "        X, P, W = wigner(rho, x, p)\n",
    "        plt.contourf(X, P, np.round(W,3), cmap=\"PiYG\")\n",
    "        plt.axis('off')\n",
    "        plt.savefig('./sfwigner'+str(i))\n",
    "        "
   ]
  },
  {
   "cell_type": "code",
   "execution_count": null,
   "metadata": {},
   "outputs": [],
   "source": []
  },
  {
   "cell_type": "code",
   "execution_count": null,
   "metadata": {},
   "outputs": [],
   "source": [
    "\n"
   ]
  },
  {
   "cell_type": "code",
   "execution_count": null,
   "metadata": {},
   "outputs": [],
   "source": []
  },
  {
   "cell_type": "code",
   "execution_count": null,
   "metadata": {},
   "outputs": [],
   "source": []
  },
  {
   "cell_type": "code",
   "execution_count": null,
   "metadata": {},
   "outputs": [],
   "source": []
  },
  {
   "cell_type": "code",
   "execution_count": null,
   "metadata": {},
   "outputs": [],
   "source": []
  },
  {
   "cell_type": "code",
   "execution_count": null,
   "metadata": {},
   "outputs": [],
   "source": []
  },
  {
   "cell_type": "code",
   "execution_count": null,
   "metadata": {},
   "outputs": [],
   "source": []
  }
 ],
 "metadata": {
  "kernelspec": {
   "display_name": "Python 3",
   "language": "python",
   "name": "python3"
  },
  "language_info": {
   "codemirror_mode": {
    "name": "ipython",
    "version": 3
   },
   "file_extension": ".py",
   "mimetype": "text/x-python",
   "name": "python",
   "nbconvert_exporter": "python",
   "pygments_lexer": "ipython3",
   "version": "3.5.4"
  }
 },
 "nbformat": 4,
 "nbformat_minor": 2
}
